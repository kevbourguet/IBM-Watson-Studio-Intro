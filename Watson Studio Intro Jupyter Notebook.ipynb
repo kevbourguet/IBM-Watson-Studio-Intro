{
    "cells": [
        {
            "cell_type": "markdown",
            "metadata": {},
            "source": "Description\nThis notebook analyzes and visualizes weather data"
        },
        {
            "cell_type": "code",
            "execution_count": 1,
            "metadata": {},
            "outputs": [
                {
                    "data": {
                        "text/html": "<div>\n<style scoped>\n    .dataframe tbody tr th:only-of-type {\n        vertical-align: middle;\n    }\n\n    .dataframe tbody tr th {\n        vertical-align: top;\n    }\n\n    .dataframe thead th {\n        text-align: right;\n    }\n</style>\n<table border=\"1\" class=\"dataframe\">\n  <thead>\n    <tr style=\"text-align: right;\">\n      <th></th>\n      <th>DATE</th>\n      <th>HOURLYDewPointTempF</th>\n      <th>HOURLYRelativeHumidity</th>\n      <th>HOURLYDRYBULBTEMPF</th>\n      <th>HOURLYWETBULBTEMPF</th>\n      <th>HOURLYPrecip</th>\n      <th>HOURLYWindSpeed</th>\n      <th>HOURLYSeaLevelPressure</th>\n      <th>HOURLYStationPressure</th>\n    </tr>\n  </thead>\n  <tbody>\n    <tr>\n      <th>0</th>\n      <td>2015-07-25T13:51:00Z</td>\n      <td>60</td>\n      <td>46.0</td>\n      <td>83.0</td>\n      <td>68.0</td>\n      <td>0.00</td>\n      <td>13.0</td>\n      <td>30.01</td>\n      <td>29.99</td>\n    </tr>\n    <tr>\n      <th>1</th>\n      <td>2016-11-18T23:51:00Z</td>\n      <td>34</td>\n      <td>48.0</td>\n      <td>53.0</td>\n      <td>44.0</td>\n      <td>0.00</td>\n      <td>6.0</td>\n      <td>30.05</td>\n      <td>30.03</td>\n    </tr>\n    <tr>\n      <th>2</th>\n      <td>2013-01-06T08:51:00Z</td>\n      <td>33</td>\n      <td>89.0</td>\n      <td>36.0</td>\n      <td>35.0</td>\n      <td>0.00</td>\n      <td>13.0</td>\n      <td>30.14</td>\n      <td>30.12</td>\n    </tr>\n    <tr>\n      <th>3</th>\n      <td>2011-01-27T16:51:00Z</td>\n      <td>18</td>\n      <td>48.0</td>\n      <td>36.0</td>\n      <td>30.0</td>\n      <td>0.00</td>\n      <td>14.0</td>\n      <td>29.82</td>\n      <td>29.80</td>\n    </tr>\n    <tr>\n      <th>4</th>\n      <td>2015-01-03T12:16:00Z</td>\n      <td>27</td>\n      <td>61.0</td>\n      <td>39.0</td>\n      <td>34.0</td>\n      <td>T</td>\n      <td>11.0</td>\n      <td>NaN</td>\n      <td>30.50</td>\n    </tr>\n  </tbody>\n</table>\n</div>",
                        "text/plain": "                   DATE HOURLYDewPointTempF  HOURLYRelativeHumidity  \\\n0  2015-07-25T13:51:00Z                  60                    46.0   \n1  2016-11-18T23:51:00Z                  34                    48.0   \n2  2013-01-06T08:51:00Z                  33                    89.0   \n3  2011-01-27T16:51:00Z                  18                    48.0   \n4  2015-01-03T12:16:00Z                  27                    61.0   \n\n   HOURLYDRYBULBTEMPF  HOURLYWETBULBTEMPF HOURLYPrecip  HOURLYWindSpeed  \\\n0                83.0                68.0         0.00             13.0   \n1                53.0                44.0         0.00              6.0   \n2                36.0                35.0         0.00             13.0   \n3                36.0                30.0         0.00             14.0   \n4                39.0                34.0            T             11.0   \n\n   HOURLYSeaLevelPressure  HOURLYStationPressure  \n0                   30.01                  29.99  \n1                   30.05                  30.03  \n2                   30.14                  30.12  \n3                   29.82                  29.80  \n4                     NaN                  30.50  "
                    },
                    "execution_count": 1,
                    "metadata": {},
                    "output_type": "execute_result"
                }
            ],
            "source": "# The code was removed by Watson Studio for sharing."
        },
        {
            "cell_type": "code",
            "execution_count": null,
            "metadata": {},
            "outputs": [],
            "source": ""
        }
    ],
    "metadata": {
        "kernelspec": {
            "display_name": "Python 3.7",
            "language": "python",
            "name": "python3"
        },
        "language_info": {
            "codemirror_mode": {
                "name": "ipython",
                "version": 3
            },
            "file_extension": ".py",
            "mimetype": "text/x-python",
            "name": "python",
            "nbconvert_exporter": "python",
            "pygments_lexer": "ipython3",
            "version": "3.7.10"
        }
    },
    "nbformat": 4,
    "nbformat_minor": 1
}